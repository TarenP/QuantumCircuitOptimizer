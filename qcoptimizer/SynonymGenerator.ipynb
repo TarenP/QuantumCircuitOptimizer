{
 "cells": [
  {
   "cell_type": "code",
   "execution_count": 1,
   "id": "86bad0fc-e924-44c7-893a-3434d14b552e",
   "metadata": {},
   "outputs": [
    {
     "name": "stderr",
     "output_type": "stream",
     "text": [
      "c:\\Users\\taren\\AppData\\Local\\Programs\\Python\\Python38\\lib\\site-packages\\numpy\\_distributor_init.py:30: UserWarning: loaded more than 1 DLL from .libs:\n",
      "c:\\Users\\taren\\AppData\\Local\\Programs\\Python\\Python38\\lib\\site-packages\\numpy\\.libs\\libopenblas.WCDJNK7YVMPZQ2ME2ZZHJJRJ3JIKNDB7.gfortran-win_amd64.dll\n",
      "c:\\Users\\taren\\AppData\\Local\\Programs\\Python\\Python38\\lib\\site-packages\\numpy\\.libs\\libopenblas.XWYDX2IKJW2NMTWSFYNGFUWKQU3LYTCZ.gfortran-win_amd64.dll\n",
      "  warnings.warn(\"loaded more than 1 DLL from .libs:\"\n"
     ]
    }
   ],
   "source": [
    "from qiskit import *\n",
    "from qiskit.visualization import plot_bloch_multivector, plot_histogram, array_to_latex\n",
    "import itertools\n",
    "import numpy as np\n",
    "from time import sleep\n",
    "import pandas as pd\n",
    "import progressbar\n",
    "import csv\n",
    "sim = Aer.get_backend('qasm_simulator')\n",
    "%matplotlib inline"
   ]
  },
  {
   "cell_type": "markdown",
   "id": "97255b4f-de17-49c8-9253-69db88c501e0",
   "metadata": {},
   "source": [
    "## Find all permutations and synonyms"
   ]
  },
  {
   "cell_type": "code",
   "execution_count": 2,
   "id": "6486b07c-1d3d-4a6d-82a6-ea2b96c7dd18",
   "metadata": {},
   "outputs": [],
   "source": [
    "gates = ['x', 'y', 'z', 'h']\n",
    "gateCombos = []\n",
    "comboSV = []\n",
    "similar = []"
   ]
  },
  {
   "cell_type": "code",
   "execution_count": 3,
   "id": "bbfc000b-b417-4a4e-a987-d52a5a81fafb",
   "metadata": {},
   "outputs": [],
   "source": [
    "#Find all permutations and append their statevectors and permutations to lists\n",
    "for L in range(1, len(gates)+1):\n",
    "    \n",
    "    #for subset in itertools.permutations(gates, L):\n",
    "    for subset in itertools.product(gates, repeat=L):\n",
    "        #print(subset)\n",
    "        gateCombos.append(subset)\n",
    "#Add a no gate option\n",
    "gateCombos.append('')\n",
    "        \n",
    "#find statevectors of each possible permutation and store in list\n",
    "for i in range(len(gateCombos)):\n",
    "    qc = QuantumCircuit(1, 1) #1 quantum, 1 classical\n",
    "    #print(gateCombos[i])\n",
    "    \n",
    "    for j in gateCombos[i]:\n",
    "        getattr(qc , j)(0)\n",
    "        #print(qc)\n",
    "    # Let's get the result:\n",
    "    qc.save_statevector()\n",
    "    qobj = assemble(qc)\n",
    "    result = sim.run(qobj).result()\n",
    "    # Print the statevector neatly:\n",
    "    final_state = result.get_statevector()\n",
    "    array_to_latex(final_state, prefix=\"\\\\text{Statevector = }\")\n",
    "    comboSV.append(final_state)\n"
   ]
  },
  {
   "cell_type": "code",
   "execution_count": 4,
   "id": "98bb2c96-81cf-40d5-a740-3cec60d12f38",
   "metadata": {},
   "outputs": [
    {
     "name": "stdout",
     "output_type": "stream",
     "text": [
      "\n"
     ]
    }
   ],
   "source": [
    "len(gateCombos)\n",
    "print(gateCombos[len(gateCombos)-1])"
   ]
  },
  {
   "cell_type": "code",
   "execution_count": 5,
   "id": "b8f4889f-2b52-44a1-8039-2f082081ca05",
   "metadata": {},
   "outputs": [
    {
     "name": "stdout",
     "output_type": "stream",
     "text": [
      "Statevector([1.+0.j, 0.+0.j],\n",
      "            dims=(2,))\n"
     ]
    }
   ],
   "source": [
    "len(comboSV)\n",
    "print(comboSV[len(comboSV)-1])"
   ]
  },
  {
   "cell_type": "code",
   "execution_count": 6,
   "id": "eb99e0d3-5dbb-42b2-abf1-47040af01ac3",
   "metadata": {},
   "outputs": [
    {
     "name": "stderr",
     "output_type": "stream",
     "text": [
      " 99% |####################################################################### |\r"
     ]
    }
   ],
   "source": [
    "#Create a list of synonym pairs based on if statevectors are equal\n",
    "bar = progressbar.ProgressBar(maxval=len(comboSV)).start()\n",
    "for i in range(len(comboSV)):\n",
    "    for j in range(len(comboSV)):\n",
    "        temp = []\n",
    "        if(i != j and comboSV[i]==comboSV[j]):\n",
    "            temp.append(gateCombos[i])\n",
    "            temp.append(gateCombos[j])\n",
    "            #print(temp)\n",
    "            similar.append(temp)\n",
    "    bar.update(i)\n",
    "            "
   ]
  },
  {
   "cell_type": "code",
   "execution_count": 7,
   "id": "09734cea-0864-4d10-aedc-01a374c458ad",
   "metadata": {},
   "outputs": [
    {
     "data": {
      "text/plain": [
       "8330"
      ]
     },
     "execution_count": 7,
     "metadata": {},
     "output_type": "execute_result"
    }
   ],
   "source": [
    "len(similar)"
   ]
  },
  {
   "cell_type": "code",
   "execution_count": 8,
   "id": "e79e0cdb-4f71-4998-8284-d039a81f0702",
   "metadata": {},
   "outputs": [
    {
     "name": "stderr",
     "output_type": "stream",
     "text": [
      " 99% |####################################################################### |\r"
     ]
    },
    {
     "name": "stdout",
     "output_type": "stream",
     "text": [
      "Removing Elements at Indices: [8277, 8271, 8233, 8229, 8190, 8142, 8140, 8071, 7936, 7935, 7910, 7897, 7886, 7800, 7798, 7744, 7735, 7727, 7726, 7657, 7625, 7489, 7398, 7358, 7352, 7331, 7319, 7223, 7220, 7090, 7088, 7037, 7012, 6966, 6798, 6792, 6631, 6485, 6460, 6391, 6373, 6328, 6268, 6167, 6140, 6134, 6115, 6111, 5959, 5899, 5885, 5860, 5848, 5801, 5772, 5771, 5646, 5576, 5557, 5534, 5532, 5435, 5310, 5254, 5246, 5147, 4914, 4907, 4811, 4698, 4668, 4580, 4410, 4409, 4407, 4399, 4353, 4218, 4217, 4211, 4177, 4169, 4167, 4133, 4016, 3919, 3818, 3816, 3795, 3722, 3675, 3647, 3596, 3595, 3575, 3535, 3483, 3478, 3461, 3444, 3408, 3407, 3400, 3384, 3322, 3300, 3207, 3130, 3120, 3086, 2868, 2834, 2829, 2784, 2665, 2514, 2484, 2468, 2443, 2398, 2379, 2340, 2217, 2088, 1851, 1767, 1609, 1608, 1157, 1056, 1032, 1030, 1028, 898, 700]\n"
     ]
    }
   ],
   "source": [
    "bar = progressbar.ProgressBar(maxval=len(similar)).start()\n",
    "# provider = IBMQ.get_provider('ibm-q')\n",
    "# backend = provider.get_backend('ibmq_armonk')\n",
    "#sort largest synonym in pair first\n",
    "#If synonyms are the same in length, check computing times of each and set slower one as target and quicker one as the replacement\n",
    "listToRemove = []\n",
    "for i in range(len(similar)):\n",
    "    if len(similar[i][1]) > len(similar[i][0]):\n",
    "        similar[i].insert(0, similar[i].pop(1))\n",
    "    elif len(similar[i][1]) == len(similar[i][0]):\n",
    "        #1\n",
    "        qc = QuantumCircuit(1, 1) #1 quantum, 1 classical\n",
    "        for j in similar[i][0]:\n",
    "            getattr(qc , j)(0)\n",
    "        qc.measure(0, 0)\n",
    "        result = execute(qc, backend=sim, shots = 1000).result()\n",
    "        time1 = result.time_taken\n",
    "        #2\n",
    "        qc = QuantumCircuit(1, 1) #1 quantum, 1 classical\n",
    "        for j in similar[i][1]:\n",
    "            getattr(qc , j)(0)\n",
    "        qc.measure(0, 0)\n",
    "        result = execute(qc, backend=sim, shots = 1000).result()\n",
    "        time2 = result.time_taken\n",
    "        if time2 > time1:\n",
    "            similar[i].insert(0, similar[i].pop(1))\n",
    "        if time2 == time1:\n",
    "            listToRemove.append(i)\n",
    "    bar.update(i)\n",
    "listToRemove.sort(reverse=True)\n",
    "print(\"Removing Elements at Indices: \" + str(listToRemove))\n",
    "listToRemove.sort(reverse=True)\n",
    "for r in listToRemove:\n",
    "    similar.pop(r)"
   ]
  },
  {
   "cell_type": "code",
   "execution_count": 9,
   "id": "5c70ef60-4041-4cfe-b2f3-febc2112f818",
   "metadata": {},
   "outputs": [
    {
     "data": {
      "text/plain": [
       "8195"
      ]
     },
     "execution_count": 9,
     "metadata": {},
     "output_type": "execute_result"
    }
   ],
   "source": [
    "len(similar)"
   ]
  },
  {
   "cell_type": "markdown",
   "id": "33e5d170-eacb-4962-9e48-8bec5d314e22",
   "metadata": {},
   "source": [
    "## Create Database File"
   ]
  },
  {
   "cell_type": "code",
   "execution_count": 11,
   "id": "65d5cb6e-4008-4d32-a492-c19f230913e3",
   "metadata": {},
   "outputs": [],
   "source": [
    "with open(r\"Synonym_Database\\key.csv\", 'w', newline='', encoding='UTF8') as f:\n",
    "    # create the csv writer\n",
    "    writer = csv.writer(f)\n",
    "    writer.writerow(['Target', 'Replacement'])\n",
    "    writer.writerows(similar)\n",
    "\n"
   ]
  },
  {
   "cell_type": "markdown",
   "id": "2855d8ff-fa44-4e41-976b-e47ea2810eac",
   "metadata": {},
   "source": [
    "### CSV to Pandas DF"
   ]
  },
  {
   "cell_type": "code",
   "execution_count": 12,
   "id": "004589c3-e2ed-4264-ba69-324a983189e4",
   "metadata": {},
   "outputs": [],
   "source": [
    "df = pd.read_csv(r\"Synonym_Database\\key.csv\")"
   ]
  },
  {
   "cell_type": "markdown",
   "id": "3f9e2c4c-d16a-42f6-9bfb-453d4c345921",
   "metadata": {},
   "source": [
    "### Filtering out multiple replacements for one target"
   ]
  },
  {
   "cell_type": "code",
   "execution_count": 13,
   "id": "b57f4364-3401-400a-bde5-12a2bc8775ed",
   "metadata": {},
   "outputs": [],
   "source": [
    "unique = df['Target'].unique()\n",
    "unique = unique.tolist()\n",
    "targets = df['Target'].tolist()"
   ]
  },
  {
   "cell_type": "code",
   "execution_count": 14,
   "id": "8b1be25b-7409-4d1d-93e1-e22f1444d9b1",
   "metadata": {},
   "outputs": [
    {
     "name": "stderr",
     "output_type": "stream",
     "text": [
      " 98% |####################################################################### |\r"
     ]
    }
   ],
   "source": [
    "bar = progressbar.ProgressBar(maxval=len(unique)).start()\n",
    "remove = []\n",
    "for i in range(len(unique)):\n",
    "    bar.update(i)\n",
    "    times = []\n",
    "    indices = []\n",
    "    for j in range(len(targets)):\n",
    "        if unique[i] == targets[j]:\n",
    "            indices.append(j)\n",
    "    for x in range(len(indices)):\n",
    "        qc = QuantumCircuit(1, 1) #1 quantum, 1 classical\n",
    "        for q in similar[x][1]:\n",
    "            getattr(qc , q)(0)\n",
    "        qc.measure(0, 0)\n",
    "        result = execute(qc, backend=sim, shots = 1000).result()\n",
    "        times.append(result.time_taken)\n",
    "    least = min(times)\n",
    "    for e in indices:\n",
    "        remove.append(e)\n",
    "    remove.remove(indices[times.index(least)])\n",
    "remove.sort(reverse=True)\n",
    "#print(remove)\n",
    "for i in remove:\n",
    "    similar.pop(i)"
   ]
  },
  {
   "cell_type": "code",
   "execution_count": 15,
   "id": "a4e3131a-2115-4f49-84b3-d54d1671ef22",
   "metadata": {},
   "outputs": [
    {
     "data": {
      "text/plain": [
       "328"
      ]
     },
     "execution_count": 15,
     "metadata": {},
     "output_type": "execute_result"
    }
   ],
   "source": [
    "len(similar)"
   ]
  },
  {
   "cell_type": "code",
   "execution_count": 16,
   "id": "a3cbceb8-1a92-4547-897a-4b6435aa3ed1",
   "metadata": {},
   "outputs": [],
   "source": [
    "with open(r\"Synonym_Database\\key.csv\", 'w', newline='', encoding='UTF8') as f:\n",
    "    # create the csv writer\n",
    "    writer = csv.writer(f)\n",
    "    writer.writerow(['Target', 'Replacement'])\n",
    "    writer.writerows(similar)"
   ]
  },
  {
   "cell_type": "markdown",
   "id": "74b73a9c-0d6c-4d59-a64a-5bf65dadf446",
   "metadata": {},
   "source": [
    "## Reading and Cleaning File"
   ]
  },
  {
   "cell_type": "code",
   "execution_count": 17,
   "id": "a7d119c8-8ede-49d5-9282-baf3c68c057d",
   "metadata": {},
   "outputs": [
    {
     "name": "stdout",
     "output_type": "stream",
     "text": [
      "                   Target Replacement\n",
      "0         ('h', 'z', 'h')      ('x',)\n",
      "1              ('z', 'y')      ('y',)\n",
      "2         ('y', 'y', 'y')      ('y',)\n",
      "3    ('h', 'h', 'z', 'y')      ('y',)\n",
      "4              ('z', 'h')      ('h',)\n",
      "..                    ...         ...\n",
      "323  ('h', 'h', 'h', 'h')         NaN\n",
      "324                ('z',)         NaN\n",
      "325            ('z', 'z')         NaN\n",
      "326            ('h', 'h')         NaN\n",
      "327  ('y', 'y', 'y', 'y')         NaN\n",
      "\n",
      "[328 rows x 2 columns]\n"
     ]
    }
   ],
   "source": [
    "#Get simplist replacements for each target\n",
    "keyDF = pd.read_csv(r\"Synonym_Database\\key.csv\")\n",
    "\n",
    "for item in range(len(keyDF)):\n",
    "    for m in range(0, 50):\n",
    "        for element in range(len(keyDF)):\n",
    "            if keyDF['Target'][element] == keyDF['Replacement'][item]:\n",
    "                # print(\"1. \" + str(keyDF['Replacement'][item]))\n",
    "                # print(\"2. \" + str(keyDF['Target'][element]))\n",
    "                keyDF['Replacement'][item] = keyDF['Replacement'][element]\n",
    "\n",
    "lst = []\n",
    "print(keyDF)\n",
    "for i in range(len(keyDF)):\n",
    "    temp = []\n",
    "    temp.append(keyDF['Target'][i])\n",
    "    temp.append(keyDF['Replacement'][i])\n",
    "    lst.append(temp)\n",
    "with open(r\"Synonym_Database\\key.csv\", 'w', newline='', encoding='UTF8') as f:\n",
    "    # create the csv writer\n",
    "    writer = csv.writer(f)\n",
    "    writer.writerow(['Target', 'Replacement'])\n",
    "    writer.writerows(lst)"
   ]
  }
 ],
 "metadata": {
  "kernelspec": {
   "display_name": "Python 3.8.3 64-bit",
   "language": "python",
   "name": "python3"
  },
  "language_info": {
   "codemirror_mode": {
    "name": "ipython",
    "version": 3
   },
   "file_extension": ".py",
   "mimetype": "text/x-python",
   "name": "python",
   "nbconvert_exporter": "python",
   "pygments_lexer": "ipython3",
   "version": "3.8.3"
  },
  "vscode": {
   "interpreter": {
    "hash": "f915d80d67913e1242642b75a189b1c15ab30e78fa02b63258f0988597fbe860"
   }
  }
 },
 "nbformat": 4,
 "nbformat_minor": 5
}
