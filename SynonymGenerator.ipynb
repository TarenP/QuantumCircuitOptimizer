{
 "cells": [
  {
   "cell_type": "code",
   "execution_count": 1,
   "id": "86bad0fc-e924-44c7-893a-3434d14b552e",
   "metadata": {},
   "outputs": [
    {
     "name": "stderr",
     "output_type": "stream",
     "text": [
      "c:\\Users\\taren\\AppData\\Local\\Programs\\Python\\Python38\\lib\\site-packages\\numpy\\_distributor_init.py:30: UserWarning: loaded more than 1 DLL from .libs:\n",
      "c:\\Users\\taren\\AppData\\Local\\Programs\\Python\\Python38\\lib\\site-packages\\numpy\\.libs\\libopenblas.WCDJNK7YVMPZQ2ME2ZZHJJRJ3JIKNDB7.gfortran-win_amd64.dll\n",
      "c:\\Users\\taren\\AppData\\Local\\Programs\\Python\\Python38\\lib\\site-packages\\numpy\\.libs\\libopenblas.XWYDX2IKJW2NMTWSFYNGFUWKQU3LYTCZ.gfortran-win_amd64.dll\n",
      "  warnings.warn(\"loaded more than 1 DLL from .libs:\"\n"
     ]
    }
   ],
   "source": [
    "from qiskit import *\n",
    "from qiskit.visualization import plot_bloch_multivector, plot_histogram, array_to_latex\n",
    "import itertools\n",
    "import numpy as np\n",
    "from time import sleep\n",
    "import pandas as pd\n",
    "import progressbar\n",
    "import csv\n",
    "sim = Aer.get_backend('qasm_simulator')\n",
    "%matplotlib inline"
   ]
  },
  {
   "cell_type": "markdown",
   "id": "97255b4f-de17-49c8-9253-69db88c501e0",
   "metadata": {},
   "source": [
    "## Find all permutations and synonyms"
   ]
  },
  {
   "cell_type": "code",
   "execution_count": 2,
   "id": "6486b07c-1d3d-4a6d-82a6-ea2b96c7dd18",
   "metadata": {},
   "outputs": [],
   "source": [
    "gates = ['x', 'y', 'z', 'h']\n",
    "gateCombos = []\n",
    "comboSV = []\n",
    "similar = []"
   ]
  },
  {
   "cell_type": "code",
   "execution_count": 3,
   "id": "bbfc000b-b417-4a4e-a987-d52a5a81fafb",
   "metadata": {},
   "outputs": [],
   "source": [
    "#Find all permutations and append their statevectors and permutations to lists\n",
    "for L in range(1, len(gates)+1):\n",
    "    \n",
    "    #for subset in itertools.permutations(gates, L):\n",
    "    for subset in itertools.product(gates, repeat=L):\n",
    "        #print(subset)\n",
    "        gateCombos.append(subset)\n",
    "#Add a no gate option\n",
    "gateCombos.append('')\n",
    "        \n",
    "#find statevectors of each possible permutation and store in list\n",
    "for i in range(len(gateCombos)):\n",
    "    qc = QuantumCircuit(1, 1) #1 quantum, 1 classical\n",
    "    #print(gateCombos[i])\n",
    "    \n",
    "    for j in gateCombos[i]:\n",
    "        getattr(qc , j)(0)\n",
    "        #print(qc)\n",
    "    # Let's get the result:\n",
    "    qc.save_statevector()\n",
    "    qobj = assemble(qc)\n",
    "    result = sim.run(qobj).result()\n",
    "    # Print the statevector neatly:\n",
    "    final_state = result.get_statevector()\n",
    "    array_to_latex(final_state, prefix=\"\\\\text{Statevector = }\")\n",
    "    comboSV.append(final_state)\n"
   ]
  },
  {
   "cell_type": "code",
   "execution_count": 4,
   "id": "98bb2c96-81cf-40d5-a740-3cec60d12f38",
   "metadata": {},
   "outputs": [
    {
     "name": "stdout",
     "output_type": "stream",
     "text": [
      "\n"
     ]
    }
   ],
   "source": [
    "len(gateCombos)\n",
    "print(gateCombos[len(gateCombos)-1])"
   ]
  },
  {
   "cell_type": "code",
   "execution_count": 5,
   "id": "b8f4889f-2b52-44a1-8039-2f082081ca05",
   "metadata": {},
   "outputs": [
    {
     "name": "stdout",
     "output_type": "stream",
     "text": [
      "Statevector([1.+0.j, 0.+0.j],\n",
      "            dims=(2,))\n"
     ]
    }
   ],
   "source": [
    "len(comboSV)\n",
    "print(comboSV[len(comboSV)-1])"
   ]
  },
  {
   "cell_type": "code",
   "execution_count": 6,
   "id": "eb99e0d3-5dbb-42b2-abf1-47040af01ac3",
   "metadata": {},
   "outputs": [
    {
     "name": "stderr",
     "output_type": "stream",
     "text": [
      " 99% |####################################################################### |\r"
     ]
    }
   ],
   "source": [
    "#Create a list of synonym pairs based on if statevectors are equal\n",
    "bar = progressbar.ProgressBar(maxval=len(comboSV)).start()\n",
    "for i in range(len(comboSV)):\n",
    "    for j in range(len(comboSV)):\n",
    "        temp = []\n",
    "        if(i != j and comboSV[i]==comboSV[j]):\n",
    "            temp.append(gateCombos[i])\n",
    "            temp.append(gateCombos[j])\n",
    "            #print(temp)\n",
    "            similar.append(temp)\n",
    "    bar.update(i)\n",
    "            "
   ]
  },
  {
   "cell_type": "code",
   "execution_count": 7,
   "id": "09734cea-0864-4d10-aedc-01a374c458ad",
   "metadata": {},
   "outputs": [
    {
     "data": {
      "text/plain": [
       "8330"
      ]
     },
     "execution_count": 7,
     "metadata": {},
     "output_type": "execute_result"
    }
   ],
   "source": [
    "len(similar)"
   ]
  },
  {
   "cell_type": "code",
   "execution_count": 8,
   "id": "e79e0cdb-4f71-4998-8284-d039a81f0702",
   "metadata": {},
   "outputs": [
    {
     "name": "stderr",
     "output_type": "stream",
     "text": [
      " 99% |####################################################################### |\r"
     ]
    },
    {
     "name": "stdout",
     "output_type": "stream",
     "text": [
      "Removing Elements at Indices: [8273, 8154, 8100, 8069, 8025, 8013, 8002, 7943, 7906, 7880, 7874, 7846, 7810, 7805, 7764, 7705, 7690, 7623, 7620, 7609, 7602, 7557, 7540, 7511, 7495, 7491, 7470, 7458, 7457, 7423, 7338, 7333, 7331, 7283, 7242, 7118, 7108, 7096, 7095, 7082, 7049, 6941, 6926, 6898, 6847, 6846, 6844, 6753, 6704, 6639, 6630, 6614, 6569, 6565, 6505, 6502, 6448, 6387, 6370, 6310, 6309, 6263, 6226, 6196, 6154, 6143, 6141, 6134, 6075, 5964, 5871, 5844, 5836, 5730, 5685, 5641, 5601, 5510, 5478, 5428, 5253, 5249, 5211, 5168, 5096, 5064, 5058, 5020, 4994, 4979, 4938, 4911, 4907, 4899, 4852, 4830, 4816, 4738, 4731, 4668, 4661, 4633, 4625, 4547, 4509, 4450, 4448, 4433, 4411, 4378, 4292, 4272, 4236, 4168, 4143, 4132, 4061, 4049, 4028, 3981, 3974, 3965, 3942, 3935, 3903, 3902, 3869, 3829, 3815, 3760, 3748, 3743, 3716, 3710, 3706, 3617, 3601, 3597, 3590, 3575, 3411, 3390, 3384, 3376, 3374, 3363, 3360, 3358, 3348, 3342, 3323, 3320, 3280, 3238, 3223, 3211, 3210, 3203, 3195, 3126, 3121, 3104, 3049, 3003, 2982, 2968, 2923, 2895, 2871, 2835, 2805, 2665, 2628, 2391, 2388, 2381, 2343, 2341, 2242, 2062, 2009, 1918, 1428, 1082]\n"
     ]
    }
   ],
   "source": [
    "bar = progressbar.ProgressBar(maxval=len(similar)).start()\n",
    "# provider = IBMQ.get_provider('ibm-q')\n",
    "# backend = provider.get_backend('ibmq_armonk')\n",
    "#sort largest synonym in pair first\n",
    "#If synonyms are the same in length, check computing times of each and set slower one as target and quicker one as the replacement\n",
    "listToRemove = []\n",
    "for i in range(len(similar)):\n",
    "    if len(similar[i][1]) > len(similar[i][0]):\n",
    "        similar[i].insert(0, similar[i].pop(1))\n",
    "    elif len(similar[i][1]) == len(similar[i][0]):\n",
    "        #1\n",
    "        qc = QuantumCircuit(1, 1) #1 quantum, 1 classical\n",
    "        for j in similar[i][0]:\n",
    "            getattr(qc , j)(0)\n",
    "        qc.measure(0, 0)\n",
    "        result = execute(qc, backend=sim, shots = 1000).result()\n",
    "        time1 = result.time_taken\n",
    "        #2\n",
    "        qc = QuantumCircuit(1, 1) #1 quantum, 1 classical\n",
    "        for j in similar[i][1]:\n",
    "            getattr(qc , j)(0)\n",
    "        qc.measure(0, 0)\n",
    "        result = execute(qc, backend=sim, shots = 1000).result()\n",
    "        time2 = result.time_taken\n",
    "        if time2 > time1:\n",
    "            similar[i].insert(0, similar[i].pop(1))\n",
    "        if time2 == time1:\n",
    "            listToRemove.append(i)\n",
    "    bar.update(i)\n",
    "listToRemove.sort(reverse=True)\n",
    "print(\"Removing Elements at Indices: \" + str(listToRemove))\n",
    "listToRemove.sort(reverse=True)\n",
    "for r in listToRemove:\n",
    "    similar.pop(r)"
   ]
  },
  {
   "cell_type": "code",
   "execution_count": 9,
   "id": "5c70ef60-4041-4cfe-b2f3-febc2112f818",
   "metadata": {},
   "outputs": [
    {
     "data": {
      "text/plain": [
       "8146"
      ]
     },
     "execution_count": 9,
     "metadata": {},
     "output_type": "execute_result"
    }
   ],
   "source": [
    "len(similar)"
   ]
  },
  {
   "cell_type": "markdown",
   "id": "33e5d170-eacb-4962-9e48-8bec5d314e22",
   "metadata": {},
   "source": [
    "## Create Database File"
   ]
  },
  {
   "cell_type": "code",
   "execution_count": 10,
   "id": "65d5cb6e-4008-4d32-a492-c19f230913e3",
   "metadata": {},
   "outputs": [],
   "source": [
    "with open(r\"Synonym_Database\\key.csv\", 'w', newline='', encoding='UTF8') as f:\n",
    "    # create the csv writer\n",
    "    writer = csv.writer(f)\n",
    "    writer.writerow(['Target', 'Replacement'])\n",
    "    writer.writerows(similar)\n",
    "\n"
   ]
  },
  {
   "cell_type": "markdown",
   "id": "2855d8ff-fa44-4e41-976b-e47ea2810eac",
   "metadata": {},
   "source": [
    "### CSV to Pandas DF"
   ]
  },
  {
   "cell_type": "code",
   "execution_count": 11,
   "id": "004589c3-e2ed-4264-ba69-324a983189e4",
   "metadata": {},
   "outputs": [],
   "source": [
    "df = pd.read_csv(r\"Synonym_Database\\key.csv\")"
   ]
  },
  {
   "cell_type": "markdown",
   "id": "3f9e2c4c-d16a-42f6-9bfb-453d4c345921",
   "metadata": {},
   "source": [
    "### Filtering out multiple replacements for one target"
   ]
  },
  {
   "cell_type": "code",
   "execution_count": 12,
   "id": "b57f4364-3401-400a-bde5-12a2bc8775ed",
   "metadata": {},
   "outputs": [],
   "source": [
    "unique = df['Target'].unique()\n",
    "unique = unique.tolist()\n",
    "targets = df['Target'].tolist()"
   ]
  },
  {
   "cell_type": "code",
   "execution_count": 13,
   "id": "8b1be25b-7409-4d1d-93e1-e22f1444d9b1",
   "metadata": {},
   "outputs": [
    {
     "name": "stderr",
     "output_type": "stream",
     "text": [
      " 98% |####################################################################### |\r"
     ]
    }
   ],
   "source": [
    "bar = progressbar.ProgressBar(maxval=len(unique)).start()\n",
    "remove = []\n",
    "for i in range(len(unique)):\n",
    "    bar.update(i)\n",
    "    times = []\n",
    "    indices = []\n",
    "    for j in range(len(targets)):\n",
    "        if unique[i] == targets[j]:\n",
    "            indices.append(j)\n",
    "    for x in range(len(indices)):\n",
    "        qc = QuantumCircuit(1, 1) #1 quantum, 1 classical\n",
    "        for q in similar[x][1]:\n",
    "            getattr(qc , q)(0)\n",
    "        qc.measure(0, 0)\n",
    "        result = execute(qc, backend=sim, shots = 1000).result()\n",
    "        times.append(result.time_taken)\n",
    "    least = min(times)\n",
    "    for e in indices:\n",
    "        remove.append(e)\n",
    "    remove.remove(indices[times.index(least)])\n",
    "remove.sort(reverse=True)\n",
    "#print(remove)\n",
    "for i in remove:\n",
    "    similar.pop(i)"
   ]
  },
  {
   "cell_type": "code",
   "execution_count": 14,
   "id": "a4e3131a-2115-4f49-84b3-d54d1671ef22",
   "metadata": {},
   "outputs": [
    {
     "data": {
      "text/plain": [
       "328"
      ]
     },
     "execution_count": 14,
     "metadata": {},
     "output_type": "execute_result"
    }
   ],
   "source": [
    "len(similar)"
   ]
  },
  {
   "cell_type": "code",
   "execution_count": 15,
   "id": "a3cbceb8-1a92-4547-897a-4b6435aa3ed1",
   "metadata": {},
   "outputs": [],
   "source": [
    "with open(r\"Synonym_Database\\key.csv\", 'w', newline='', encoding='UTF8') as f:\n",
    "    # create the csv writer\n",
    "    writer = csv.writer(f)\n",
    "    writer.writerow(['Target', 'Replacement'])\n",
    "    writer.writerows(similar)"
   ]
  },
  {
   "cell_type": "markdown",
   "id": "74b73a9c-0d6c-4d59-a64a-5bf65dadf446",
   "metadata": {},
   "source": [
    "## Reading and Cleaning File"
   ]
  },
  {
   "cell_type": "code",
   "execution_count": 16,
   "id": "a7d119c8-8ede-49d5-9282-baf3c68c057d",
   "metadata": {},
   "outputs": [
    {
     "name": "stdout",
     "output_type": "stream",
     "text": [
      "                   Target Replacement\n",
      "0         ('y', 'x', 'x')      ('y',)\n",
      "1         ('y', 'y', 'y')      ('y',)\n",
      "2    ('z', 'y', 'y', 'y')      ('y',)\n",
      "3    ('h', 'y', 'h', 'z')      ('y',)\n",
      "4         ('z', 'x', 'x')         NaN\n",
      "..                    ...         ...\n",
      "323  ('h', 'h', 'h', 'x')      ('h',)\n",
      "324  ('h', 'h', 'h', 'y')  ('h', 'y')\n",
      "325  ('h', 'z', 'y', 'y')  ('x', 'h')\n",
      "326  ('h', 'h', 'h', 'h')         NaN\n",
      "327            ('x', 'x')         NaN\n",
      "\n",
      "[328 rows x 2 columns]\n"
     ]
    }
   ],
   "source": [
    "#Get simplist replacements for each target\n",
    "keyDF = pd.read_csv(r\"Synonym_Database\\key.csv\")\n",
    "\n",
    "for item in range(len(keyDF)):\n",
    "    for m in range(0, 50):\n",
    "        for element in range(len(keyDF)):\n",
    "            if keyDF['Target'][element] == keyDF['Replacement'][item]:\n",
    "                # print(\"1. \" + str(keyDF['Replacement'][item]))\n",
    "                # print(\"2. \" + str(keyDF['Target'][element]))\n",
    "                keyDF['Replacement'][item] = keyDF['Replacement'][element]\n",
    "\n",
    "lst = []\n",
    "print(keyDF)\n",
    "for i in range(len(keyDF)):\n",
    "    temp = []\n",
    "    temp.append(keyDF['Target'][i])\n",
    "    temp.append(keyDF['Replacement'][i])\n",
    "    lst.append(temp)\n",
    "with open(r\"Synonym_Database\\key.csv\", 'w', newline='', encoding='UTF8') as f:\n",
    "    # create the csv writer\n",
    "    writer = csv.writer(f)\n",
    "    writer.writerow(['Target', 'Replacement'])\n",
    "    writer.writerows(lst)"
   ]
  }
 ],
 "metadata": {
  "kernelspec": {
   "display_name": "Python 3.8.3 64-bit",
   "language": "python",
   "name": "python3"
  },
  "language_info": {
   "codemirror_mode": {
    "name": "ipython",
    "version": 3
   },
   "file_extension": ".py",
   "mimetype": "text/x-python",
   "name": "python",
   "nbconvert_exporter": "python",
   "pygments_lexer": "ipython3",
   "version": "3.8.3"
  },
  "vscode": {
   "interpreter": {
    "hash": "f915d80d67913e1242642b75a189b1c15ab30e78fa02b63258f0988597fbe860"
   }
  }
 },
 "nbformat": 4,
 "nbformat_minor": 5
}
