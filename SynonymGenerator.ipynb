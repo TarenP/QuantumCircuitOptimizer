{
 "cells": [
  {
   "cell_type": "code",
   "execution_count": 1,
   "id": "86bad0fc-e924-44c7-893a-3434d14b552e",
   "metadata": {},
   "outputs": [],
   "source": [
    "from qiskit import *\n",
    "from qiskit.visualization import plot_bloch_multivector, plot_histogram, array_to_latex\n",
    "import itertools\n",
    "import numpy as np\n",
    "from time import sleep\n",
    "import pandas as pd\n",
    "#import progressbar\n",
    "import csv\n",
    "sim = Aer.get_backend('qasm_simulator')\n",
    "%matplotlib inline"
   ]
  },
  {
   "cell_type": "markdown",
   "id": "97255b4f-de17-49c8-9253-69db88c501e0",
   "metadata": {},
   "source": [
    "## Find all permutations and synonyms"
   ]
  },
  {
   "cell_type": "code",
   "execution_count": 2,
   "id": "6486b07c-1d3d-4a6d-82a6-ea2b96c7dd18",
   "metadata": {},
   "outputs": [],
   "source": [
    "gates = ['x', 'y', 'z', 'h']\n",
    "gateCombos = []\n",
    "comboSV = []\n",
    "similar = []"
   ]
  },
  {
   "cell_type": "code",
   "execution_count": 3,
   "id": "bbfc000b-b417-4a4e-a987-d52a5a81fafb",
   "metadata": {},
   "outputs": [],
   "source": [
    "#Find all permutations and append their statevectors and permutations to lists\n",
    "for L in range(1, len(gates)+1):\n",
    "    \n",
    "    #for subset in itertools.permutations(gates, L):\n",
    "    for subset in itertools.product(gates, repeat=L):\n",
    "        #print(subset)\n",
    "        gateCombos.append(subset)\n",
    "#Add a no gate option\n",
    "gateCombos.append('')\n",
    "        \n",
    "#find statevectors of each possible permutation and store in list\n",
    "for i in range(len(gateCombos)):\n",
    "    qc = QuantumCircuit(1, 1) #1 quantum, 1 classical\n",
    "    #print(gateCombos[i])\n",
    "    \n",
    "    for j in gateCombos[i]:\n",
    "        getattr(qc , j)(0)\n",
    "        #print(qc)\n",
    "    # Let's get the result:\n",
    "    qc.save_statevector()\n",
    "    qobj = assemble(qc)\n",
    "    result = sim.run(qobj).result()\n",
    "    # Print the statevector neatly:\n",
    "    final_state = result.get_statevector()\n",
    "    array_to_latex(final_state, prefix=\"\\\\text{Statevector = }\")\n",
    "    comboSV.append(final_state)\n"
   ]
  },
  {
   "cell_type": "code",
   "execution_count": 4,
   "id": "98bb2c96-81cf-40d5-a740-3cec60d12f38",
   "metadata": {},
   "outputs": [
    {
     "name": "stdout",
     "output_type": "stream",
     "text": [
      "\n"
     ]
    }
   ],
   "source": [
    "len(gateCombos)\n",
    "print(gateCombos[len(gateCombos)-1])"
   ]
  },
  {
   "cell_type": "code",
   "execution_count": 5,
   "id": "b8f4889f-2b52-44a1-8039-2f082081ca05",
   "metadata": {},
   "outputs": [
    {
     "name": "stdout",
     "output_type": "stream",
     "text": [
      "Statevector([1.+0.j, 0.+0.j],\n",
      "            dims=(2,))\n"
     ]
    }
   ],
   "source": [
    "len(comboSV)\n",
    "print(comboSV[len(comboSV)-1])"
   ]
  },
  {
   "cell_type": "code",
   "execution_count": 6,
   "id": "eb99e0d3-5dbb-42b2-abf1-47040af01ac3",
   "metadata": {},
   "outputs": [
    {
     "name": "stderr",
     "output_type": "stream",
     "text": [
      " 99% |####################################################################### |\r"
     ]
    }
   ],
   "source": [
    "#Create a list of synonym pairs based on if statevectors are equal\n",
    "#bar = progressbar.ProgressBar(maxval=len(comboSV)).start()\n",
    "for i in range(len(comboSV)):\n",
    "    for j in range(len(comboSV)):\n",
    "        temp = []\n",
    "        if(i != j and comboSV[i]==comboSV[j]):\n",
    "            temp.append(gateCombos[i])\n",
    "            temp.append(gateCombos[j])\n",
    "            #print(temp)\n",
    "            similar.append(temp)\n",
    "    #bar.update(i)\n",
    "            "
   ]
  },
  {
   "cell_type": "code",
   "execution_count": 7,
   "id": "09734cea-0864-4d10-aedc-01a374c458ad",
   "metadata": {},
   "outputs": [
    {
     "data": {
      "text/plain": [
       "8330"
      ]
     },
     "execution_count": 7,
     "metadata": {},
     "output_type": "execute_result"
    }
   ],
   "source": [
    "len(similar)"
   ]
  },
  {
   "cell_type": "code",
   "execution_count": 8,
   "id": "e79e0cdb-4f71-4998-8284-d039a81f0702",
   "metadata": {},
   "outputs": [
    {
     "name": "stderr",
     "output_type": "stream",
     "text": [
      " 99% |####################################################################### |\r"
     ]
    },
    {
     "name": "stdout",
     "output_type": "stream",
     "text": [
      "Removing Elements at Indices: [8281, 8277, 8217, 8197, 8156, 8153, 7996, 7983, 7971, 7914, 7783, 7764, 7739, 7698, 7613, 7597, 7576, 7551, 7507, 7450, 7384, 7318, 7310, 7223, 7194, 6989, 6968, 6936, 6931, 6854, 6748, 6708, 6563, 6559, 6537, 6535, 6532, 6485, 6440, 6424, 6413, 6412, 6411, 6407, 6382, 6296, 6272, 6224, 6193, 6168, 6167, 6166, 6002, 5985, 5906, 5901, 5889, 5860, 5816, 5772, 5767, 5736, 5689, 5685, 5632, 5605, 5527, 5502, 5349, 5281, 5255, 5252, 5248, 5220, 5081, 5078, 5076, 5055, 5054, 4929, 4926, 4925, 4882, 4843, 4824, 4819, 4761, 4703, 4698, 4586, 4582, 4580, 4543, 4515, 4506, 4470, 4461, 4455, 4442, 4430, 4381, 4379, 4351, 4317, 4316, 4284, 4273, 4193, 4188, 4157, 4086, 4056, 4044, 4018, 3980, 3899, 3822, 3767, 3758, 3714, 3664, 3626, 3612, 3493, 3389, 3383, 3363, 3323, 3322, 3309, 3307, 3291, 3289, 3280, 3248, 3247, 3243, 3240, 3216, 3202, 3199, 3167, 3156, 3131, 3106, 3104, 3098, 3048, 3001, 2999, 2951, 2907, 2857, 2825, 2801, 2764, 2727, 2724, 2696, 2672, 2664, 2655, 2643, 2636, 2606, 2570, 2508, 2441, 2375, 2348, 2282, 2227, 2116, 2043, 2037, 2006, 1672, 1508, 1431, 1275, 1209, 1053, 957, 866, 753, 604, 392, 211]\n"
     ]
    }
   ],
   "source": [
    "#bar = progressbar.ProgressBar(maxval=len(similar)).start()\n",
    "# provider = IBMQ.get_provider('ibm-q')\n",
    "# backend = provider.get_backend('ibmq_armonk')\n",
    "#sort largest synonym in pair first\n",
    "#If synonyms are the same in length, check computing times of each and set slower one as target and quicker one as the replacement\n",
    "listToRemove = []\n",
    "for i in range(len(similar)):\n",
    "    if len(similar[i][1]) > len(similar[i][0]):\n",
    "        similar[i].insert(0, similar[i].pop(1))\n",
    "    elif len(similar[i][1]) == len(similar[i][0]):\n",
    "        #1\n",
    "        #Commented out sections of code are for usage with real QHardware\n",
    "        qc = QuantumCircuit(1, 1) #1 quantum, 1 classical\n",
    "        for j in similar[i][0]:\n",
    "            getattr(qc , j)(0)\n",
    "        qc.measure(0, 0)\n",
    "        result = execute(qc, backend=sim, shots = 1000).result()\n",
    "        # job = execute(qc, backend=backend)\n",
    "        # job_monitor(job)\n",
    "        # result = job.result()\n",
    "        time1 = result.time_taken\n",
    "        #2\n",
    "        qc = QuantumCircuit(1, 1) #1 quantum, 1 classical\n",
    "        for j in similar[i][1]:\n",
    "            getattr(qc , j)(0)\n",
    "        qc.measure(0, 0)\n",
    "        result = execute(qc, backend=sim, shots = 1000).result()\n",
    "        # job = execute(qc, backend=backend)\n",
    "        # job_monitor(job)\n",
    "        # result = job.result()\n",
    "        time2 = result.time_taken\n",
    "        if time2 > time1:\n",
    "            similar[i].insert(0, similar[i].pop(1))\n",
    "        if time2 == time1:\n",
    "            listToRemove.append(i)\n",
    "    #bar.update(i)\n",
    "listToRemove.sort(reverse=True)\n",
    "#print(\"Removing Elements at Indices: \" + str(listToRemove))\n",
    "listToRemove.sort(reverse=True)\n",
    "for r in listToRemove:\n",
    "    similar.pop(r)"
   ]
  },
  {
   "cell_type": "code",
   "execution_count": 9,
   "id": "5c70ef60-4041-4cfe-b2f3-febc2112f818",
   "metadata": {},
   "outputs": [
    {
     "data": {
      "text/plain": [
       "8142"
      ]
     },
     "execution_count": 9,
     "metadata": {},
     "output_type": "execute_result"
    }
   ],
   "source": [
    "len(similar)"
   ]
  },
  {
   "cell_type": "markdown",
   "id": "33e5d170-eacb-4962-9e48-8bec5d314e22",
   "metadata": {},
   "source": [
    "## Create Database File"
   ]
  },
  {
   "cell_type": "code",
   "execution_count": 10,
   "id": "65d5cb6e-4008-4d32-a492-c19f230913e3",
   "metadata": {},
   "outputs": [],
   "source": [
    "with open(r\"Synonym_Database\\key.csv\", 'w', newline='', encoding='UTF8') as f:\n",
    "    # create the csv writer\n",
    "    writer = csv.writer(f)\n",
    "    writer.writerow(['Target', 'Replacement'])\n",
    "    writer.writerows(similar)\n",
    "\n"
   ]
  },
  {
   "cell_type": "markdown",
   "id": "2855d8ff-fa44-4e41-976b-e47ea2810eac",
   "metadata": {},
   "source": [
    "### CSV to Pandas DF"
   ]
  },
  {
   "cell_type": "code",
   "execution_count": 11,
   "id": "004589c3-e2ed-4264-ba69-324a983189e4",
   "metadata": {},
   "outputs": [],
   "source": [
    "df = pd.read_csv(r\"Synonym_Database\\key.csv\")"
   ]
  },
  {
   "cell_type": "markdown",
   "id": "3f9e2c4c-d16a-42f6-9bfb-453d4c345921",
   "metadata": {},
   "source": [
    "### Filtering out multiple replacements for one target"
   ]
  },
  {
   "cell_type": "code",
   "execution_count": 12,
   "id": "b57f4364-3401-400a-bde5-12a2bc8775ed",
   "metadata": {},
   "outputs": [],
   "source": [
    "unique = df['Target'].unique()\n",
    "unique = unique.tolist()\n",
    "targets = df['Target'].tolist()"
   ]
  },
  {
   "cell_type": "code",
   "execution_count": 13,
   "id": "8b1be25b-7409-4d1d-93e1-e22f1444d9b1",
   "metadata": {},
   "outputs": [
    {
     "name": "stderr",
     "output_type": "stream",
     "text": [
      " 98% |####################################################################### |\r"
     ]
    }
   ],
   "source": [
    "bar = progressbar.ProgressBar(maxval=len(unique)).start()\n",
    "remove = []\n",
    "for i in range(len(unique)):\n",
    "    bar.update(i)\n",
    "    times = []\n",
    "    indices = []\n",
    "    for j in range(len(targets)):\n",
    "        if unique[i] == targets[j]:\n",
    "            indices.append(j)\n",
    "    for x in range(len(indices)):\n",
    "        #Commented out sections of code are for usage with real QHardware\n",
    "        qc = QuantumCircuit(1, 1) #1 quantum, 1 classical\n",
    "        for q in similar[x][1]:\n",
    "            getattr(qc , q)(0)\n",
    "        qc.measure(0, 0)\n",
    "        result = execute(qc, backend=sim, shots = 1000).result()\n",
    "        # job = execute(qc, backend=backend)\n",
    "        # job_monitor(job)\n",
    "        # result = job.result()\n",
    "        times.append(result.time_taken)\n",
    "    least = min(times)\n",
    "    for e in indices:\n",
    "        remove.append(e)\n",
    "    remove.remove(indices[times.index(least)])\n",
    "remove.sort(reverse=True)\n",
    "#print(remove)\n",
    "for i in remove:\n",
    "    similar.pop(i)"
   ]
  },
  {
   "cell_type": "code",
   "execution_count": 14,
   "id": "a4e3131a-2115-4f49-84b3-d54d1671ef22",
   "metadata": {},
   "outputs": [
    {
     "data": {
      "text/plain": [
       "328"
      ]
     },
     "execution_count": 14,
     "metadata": {},
     "output_type": "execute_result"
    }
   ],
   "source": [
    "len(similar)"
   ]
  },
  {
   "cell_type": "code",
   "execution_count": 15,
   "id": "a3cbceb8-1a92-4547-897a-4b6435aa3ed1",
   "metadata": {},
   "outputs": [],
   "source": [
    "with open(r\"Synonym_Database\\key.csv\", 'w', newline='', encoding='UTF8') as f:\n",
    "    # create the csv writer\n",
    "    writer = csv.writer(f)\n",
    "    writer.writerow(['Target', 'Replacement'])\n",
    "    writer.writerows(similar)"
   ]
  },
  {
   "cell_type": "markdown",
   "id": "74b73a9c-0d6c-4d59-a64a-5bf65dadf446",
   "metadata": {},
   "source": [
    "## Reading and Cleaning File"
   ]
  },
  {
   "cell_type": "code",
   "execution_count": 16,
   "id": "a7d119c8-8ede-49d5-9282-baf3c68c057d",
   "metadata": {},
   "outputs": [
    {
     "name": "stdout",
     "output_type": "stream",
     "text": [
      "                   Target Replacement\n",
      "0         ('x', 'x', 'y')      ('y',)\n",
      "1    ('y', 'x', 'z', 'x')      ('y',)\n",
      "2              ('y', 'y')         NaN\n",
      "3         ('z', 'z', 'h')      ('h',)\n",
      "4              ('x', 'x')         NaN\n",
      "..                    ...         ...\n",
      "323  ('y', 'h', 'h', 'y')         NaN\n",
      "324  ('h', 'z', 'z', 'h')         NaN\n",
      "325                ('z',)         NaN\n",
      "326       ('h', 'h', 'z')         NaN\n",
      "327  ('h', 'x', 'x', 'h')         NaN\n",
      "\n",
      "[328 rows x 2 columns]\n"
     ]
    }
   ],
   "source": [
    "#Get simplist replacements for each target\n",
    "keyDF = pd.read_csv(r\"Synonym_Database\\key.csv\")\n",
    "\n",
    "for item in range(len(keyDF)):\n",
    "    for m in range(0, 50):\n",
    "        for element in range(len(keyDF)):\n",
    "            if keyDF['Target'][element] == keyDF['Replacement'][item]:\n",
    "                # print(\"1. \" + str(keyDF['Replacement'][item]))\n",
    "                # print(\"2. \" + str(keyDF['Target'][element]))\n",
    "                keyDF['Replacement'][item] = keyDF['Replacement'][element]\n",
    "\n",
    "lst = []\n",
    "#print(keyDF)\n",
    "for i in range(len(keyDF)):\n",
    "    temp = []\n",
    "    temp.append(keyDF['Target'][i])\n",
    "    temp.append(keyDF['Replacement'][i])\n",
    "    lst.append(temp)\n",
    "with open(r\"Synonym_Database\\key.csv\", 'w', newline='', encoding='UTF8') as f:\n",
    "    # create the csv writer\n",
    "    writer = csv.writer(f)\n",
    "    writer.writerow(['Target', 'Replacement'])\n",
    "    writer.writerows(lst)"
   ]
  },
  {
   "cell_type": "code",
   "execution_count": 17,
   "id": "f27d6e83-7d05-4b61-8554-7bd09dfe8804",
   "metadata": {},
   "outputs": [],
   "source": [
    "#For every replacement item(j), search for j as a target and set j as a target's replacement = j\n",
    "#repeat this action on j until it is no longer found as a target"
   ]
  }
 ],
 "metadata": {
  "kernelspec": {
   "display_name": "Python 3 (ipykernel)",
   "language": "python",
   "name": "python3"
  },
  "language_info": {
   "codemirror_mode": {
    "name": "ipython",
    "version": 3
   },
   "file_extension": ".py",
   "mimetype": "text/x-python",
   "name": "python",
   "nbconvert_exporter": "python",
   "pygments_lexer": "ipython3",
   "version": "3.9.7"
  }
 },
 "nbformat": 4,
 "nbformat_minor": 5
}
