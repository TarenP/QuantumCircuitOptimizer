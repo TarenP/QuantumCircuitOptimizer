{
 "cells": [
  {
   "cell_type": "code",
   "execution_count": 90,
   "id": "86bad0fc-e924-44c7-893a-3434d14b552e",
   "metadata": {},
   "outputs": [],
   "source": [
    "from qiskit import *\n",
    "from qiskit.visualization import plot_bloch_multivector, plot_histogram, array_to_latex\n",
    "import itertools\n",
    "import numpy as np\n",
    "from time import sleep\n",
    "import pandas as pd\n",
    "import progressbar\n",
    "import csv\n",
    "import ast\n",
    "sim = Aer.get_backend('qasm_simulator')\n",
    "%matplotlib inline"
   ]
  },
  {
   "cell_type": "markdown",
   "id": "97255b4f-de17-49c8-9253-69db88c501e0",
   "metadata": {},
   "source": [
    "## Find all permutations and synonyms"
   ]
  },
  {
   "cell_type": "code",
   "execution_count": 91,
   "id": "6486b07c-1d3d-4a6d-82a6-ea2b96c7dd18",
   "metadata": {},
   "outputs": [],
   "source": [
    "gates = ['x', 'y', 'z', 'h']\n",
    "gateCombos = []\n",
    "comboSV = []\n",
    "similar = []"
   ]
  },
  {
   "cell_type": "code",
   "execution_count": 92,
   "id": "bbfc000b-b417-4a4e-a987-d52a5a81fafb",
   "metadata": {},
   "outputs": [],
   "source": [
    "#Find all permutations and append their statevectors and permutations to lists\n",
    "for L in range(1, len(gates)+1):\n",
    "    \n",
    "    #for subset in itertools.permutations(gates, L):\n",
    "    for subset in itertools.product(gates, repeat=L):\n",
    "        #print(subset)\n",
    "        gateCombos.append(subset)\n",
    "#Add a no gate option\n",
    "gateCombos.append('')\n",
    "        \n",
    "#find statevectors of each possible permutation and store in list\n",
    "for i in range(len(gateCombos)):\n",
    "    qc = QuantumCircuit(1, 1) #1 quantum, 1 classical\n",
    "    #print(gateCombos[i])\n",
    "    \n",
    "    for j in gateCombos[i]:\n",
    "        getattr(qc , j)(0)\n",
    "        #print(qc)\n",
    "    # Let's get the result:\n",
    "    qc.measure_all()\n",
    "    result = execute(qc, backend = sim, shots=1024).result()\n",
    "    counts = result.get_counts()\n",
    "    lst = list(counts.items())\n",
    "    temp = []\n",
    "    for j in range(len(lst)):\n",
    "        temp.append(lst[j][0])\n",
    "    comboSV.append(temp)\n",
    "    # print(final_state)\n"
   ]
  },
  {
   "cell_type": "code",
   "execution_count": 93,
   "id": "98bb2c96-81cf-40d5-a740-3cec60d12f38",
   "metadata": {},
   "outputs": [
    {
     "data": {
      "text/plain": [
       "341"
      ]
     },
     "execution_count": 93,
     "metadata": {},
     "output_type": "execute_result"
    }
   ],
   "source": [
    "len(gateCombos)"
   ]
  },
  {
   "cell_type": "code",
   "execution_count": 94,
   "id": "b8f4889f-2b52-44a1-8039-2f082081ca05",
   "metadata": {},
   "outputs": [
    {
     "data": {
      "text/plain": [
       "341"
      ]
     },
     "execution_count": 94,
     "metadata": {},
     "output_type": "execute_result"
    }
   ],
   "source": [
    "len(comboSV)"
   ]
  },
  {
   "cell_type": "code",
   "execution_count": 95,
   "id": "eb99e0d3-5dbb-42b2-abf1-47040af01ac3",
   "metadata": {},
   "outputs": [
    {
     "name": "stderr",
     "output_type": "stream",
     "text": [
      " 99% |####################################################################### |\r"
     ]
    }
   ],
   "source": [
    "#Create a list of synonym pairs based on if statevectors are equal\n",
    "bar = progressbar.ProgressBar(maxval=len(comboSV)).start()\n",
    "for i in range(len(comboSV)):\n",
    "    for j in range(len(comboSV)):\n",
    "        temp = []\n",
    "        if(i != j and comboSV[i]==comboSV[j]):\n",
    "            temp.append(gateCombos[i])\n",
    "            temp.append(gateCombos[j])\n",
    "            # print('')\n",
    "            # print(comboSV[i])\n",
    "            # print(comboSV[j])\n",
    "            # print(temp)\n",
    "            similar.append(temp)\n",
    "    bar.update(i)\n",
    "            "
   ]
  },
  {
   "cell_type": "code",
   "execution_count": 97,
   "id": "09734cea-0864-4d10-aedc-01a374c458ad",
   "metadata": {},
   "outputs": [
    {
     "data": {
      "text/plain": [
       "29028"
      ]
     },
     "execution_count": 97,
     "metadata": {},
     "output_type": "execute_result"
    }
   ],
   "source": [
    "len(similar)"
   ]
  },
  {
   "cell_type": "code",
   "execution_count": 98,
   "id": "e79e0cdb-4f71-4998-8284-d039a81f0702",
   "metadata": {},
   "outputs": [
    {
     "name": "stderr",
     "output_type": "stream",
     "text": [
      " 99% |####################################################################### |\r"
     ]
    },
    {
     "name": "stdout",
     "output_type": "stream",
     "text": [
      "Removing Elements at Indices: [28484, 28483, 27940, 27929, 27852, 27062, 26438, 26253, 26199, 25028, 23543, 23291, 23264, 23162, 23022, 22771, 22435, 22394, 22235, 20284, 19839, 19481, 18963, 17594, 17126, 16922, 16810, 16742, 16686, 16648, 16644, 16587, 16421, 16379, 16364, 16339, 16293, 16280, 16248, 16167, 16089, 16021, 15903, 15744, 15738, 15711, 15674, 15655, 15564, 15267, 15196, 15124, 14898, 14887, 14858, 14857, 14800, 14760, 14556, 14538, 14425, 14331, 14292, 14288, 14271, 14091, 14050, 14043, 13683, 13659, 13425, 12674, 12633, 12599, 12534, 12521, 12517, 12281, 12261, 11944, 11885, 11840, 11765, 11760, 11623, 11621, 11603, 11596, 11595, 11594, 11584, 11568, 11533, 11531, 11513, 11486, 11437, 11431, 11427, 11414, 11405, 11363, 11358, 11262, 11216, 11195, 11192, 11179, 11177, 11174, 11065, 11062, 10834, 10802, 10799, 10732, 10711, 10704, 10647, 10629, 10528, 10476, 10443, 10384, 10351, 10333, 10264, 10244, 10197, 10171, 10161, 10100, 10015, 10009, 9995, 9936, 9901, 9895, 9756, 9710, 9704, 9685, 9613, 9593, 9493, 9338, 9327, 9313, 9261, 9207, 9202, 8913, 8812, 8791, 8732, 8723, 8717, 8648, 8643, 8556, 8525, 8477, 8446, 8436, 8427, 8405, 8308, 8303, 8283, 8239, 8227, 8218, 8152, 8111, 8078, 8070, 8058, 7947, 7940, 7895, 7873, 7850, 7776, 7516, 6865, 6610, 6606, 6533, 6444, 6133, 6051, 5735, 5509, 5334, 4983, 4879, 4719, 4716, 4527, 4523, 4436, 3933, 3839, 3673, 3575, 3218, 3049, 2813, 2737, 2560, 2116, 2110, 2034, 1940, 1860, 1850, 1338, 1067, 627, 444]\n"
     ]
    }
   ],
   "source": [
    "bar = progressbar.ProgressBar(maxval=len(similar)).start()\n",
    "# provider = IBMQ.get_provider('ibm-q')\n",
    "# backend = provider.get_backend('ibmq_armonk')\n",
    "#sort largest synonym in pair first\n",
    "#If synonyms are the same in length, check computing times of each and set slower one as target and quicker one as the replacement\n",
    "listToRemove = []\n",
    "for i in range(len(similar)):\n",
    "    if len(similar[i][1]) > len(similar[i][0]):\n",
    "        similar[i].insert(0, similar[i].pop(1))\n",
    "    elif len(similar[i][1]) == len(similar[i][0]):\n",
    "        #1\n",
    "        qc = QuantumCircuit(1, 1) #1 quantum, 1 classical\n",
    "        for j in similar[i][0]:\n",
    "            getattr(qc , j)(0)\n",
    "        qc.measure_all()\n",
    "        result = execute(qc, backend=sim, shots = 1000).result()\n",
    "        time1 = result.time_taken\n",
    "        #2\n",
    "        qc = QuantumCircuit(1, 1) #1 quantum, 1 classical\n",
    "        for j in similar[i][1]:\n",
    "            getattr(qc , j)(0)\n",
    "        qc.measure_all()\n",
    "        result = execute(qc, backend=sim, shots = 1000).result()\n",
    "        time2 = result.time_taken\n",
    "        if time2 > time1:\n",
    "            similar[i].insert(0, similar[i].pop(1))\n",
    "        if time2 == time1:\n",
    "            listToRemove.append(i)\n",
    "    bar.update(i)\n",
    "listToRemove.sort(reverse=True)\n",
    "print(\"Removing Elements at Indices: \" + str(listToRemove))\n",
    "listToRemove.sort(reverse=True)\n",
    "for r in listToRemove:\n",
    "    similar.pop(r)"
   ]
  },
  {
   "cell_type": "code",
   "execution_count": 99,
   "id": "5c70ef60-4041-4cfe-b2f3-febc2112f818",
   "metadata": {},
   "outputs": [
    {
     "data": {
      "text/plain": [
       "28808"
      ]
     },
     "execution_count": 99,
     "metadata": {},
     "output_type": "execute_result"
    }
   ],
   "source": [
    "len(similar)"
   ]
  },
  {
   "cell_type": "markdown",
   "id": "33e5d170-eacb-4962-9e48-8bec5d314e22",
   "metadata": {},
   "source": [
    "## Create Database File"
   ]
  },
  {
   "cell_type": "code",
   "execution_count": 100,
   "id": "65d5cb6e-4008-4d32-a492-c19f230913e3",
   "metadata": {},
   "outputs": [],
   "source": [
    "with open(r\"key.csv\", 'w', newline='', encoding='UTF8') as f:\n",
    "    # create the csv writer\n",
    "    writer = csv.writer(f)\n",
    "    writer.writerow(['Target', 'Replacement'])\n",
    "    writer.writerows(similar)\n",
    "\n"
   ]
  },
  {
   "cell_type": "markdown",
   "id": "2855d8ff-fa44-4e41-976b-e47ea2810eac",
   "metadata": {},
   "source": [
    "### CSV to Pandas DF"
   ]
  },
  {
   "cell_type": "code",
   "execution_count": 101,
   "id": "004589c3-e2ed-4264-ba69-324a983189e4",
   "metadata": {},
   "outputs": [],
   "source": [
    "df = pd.read_csv(r\"key.csv\")"
   ]
  },
  {
   "cell_type": "markdown",
   "id": "3f9e2c4c-d16a-42f6-9bfb-453d4c345921",
   "metadata": {},
   "source": [
    "### Filtering out multiple replacements for one target"
   ]
  },
  {
   "cell_type": "code",
   "execution_count": 102,
   "id": "b57f4364-3401-400a-bde5-12a2bc8775ed",
   "metadata": {},
   "outputs": [],
   "source": [
    "unique = df['Target'].unique()\n",
    "unique = unique.tolist()\n",
    "targets = df['Target'].tolist()"
   ]
  },
  {
   "cell_type": "code",
   "execution_count": 103,
   "id": "8b1be25b-7409-4d1d-93e1-e22f1444d9b1",
   "metadata": {},
   "outputs": [
    {
     "name": "stderr",
     "output_type": "stream",
     "text": [
      " 99% |####################################################################### |\r"
     ]
    }
   ],
   "source": [
    "bar = progressbar.ProgressBar(maxval=len(unique)).start()\n",
    "remove = []\n",
    "for i in range(len(unique)):\n",
    "    bar.update(i)\n",
    "    times = []\n",
    "    indices = []\n",
    "    for j in range(len(targets)):\n",
    "        if unique[i] == targets[j]:\n",
    "            indices.append(j)\n",
    "    for x in range(len(indices)):\n",
    "        qc = QuantumCircuit(1, 1) #1 quantum, 1 classical\n",
    "        for q in similar[x][1]:\n",
    "            getattr(qc , q)(0)\n",
    "        qc.measure(0, 0)\n",
    "        result = execute(qc, backend=sim, shots = 1000).result()\n",
    "        times.append(result.time_taken)\n",
    "    least = min(times)\n",
    "    for e in indices:\n",
    "        remove.append(e)\n",
    "    remove.remove(indices[times.index(least)])\n",
    "remove.sort(reverse=True)\n",
    "#print(remove)\n",
    "for i in remove:\n",
    "    similar.pop(i)"
   ]
  },
  {
   "cell_type": "code",
   "execution_count": 15,
   "id": "a4e3131a-2115-4f49-84b3-d54d1671ef22",
   "metadata": {},
   "outputs": [
    {
     "data": {
      "text/plain": [
       "328"
      ]
     },
     "execution_count": 15,
     "metadata": {},
     "output_type": "execute_result"
    }
   ],
   "source": [
    "len(similar)"
   ]
  },
  {
   "cell_type": "code",
   "execution_count": 104,
   "id": "a3cbceb8-1a92-4547-897a-4b6435aa3ed1",
   "metadata": {},
   "outputs": [],
   "source": [
    "with open(r\"key.csv\", 'w', newline='', encoding='UTF8') as f:\n",
    "    # create the csv writer\n",
    "    writer = csv.writer(f)\n",
    "    writer.writerow(['Target', 'Replacement'])\n",
    "    writer.writerows(similar)"
   ]
  },
  {
   "cell_type": "markdown",
   "id": "74b73a9c-0d6c-4d59-a64a-5bf65dadf446",
   "metadata": {},
   "source": [
    "## Reading and Cleaning File"
   ]
  },
  {
   "cell_type": "code",
   "execution_count": 105,
   "id": "a7d119c8-8ede-49d5-9282-baf3c68c057d",
   "metadata": {},
   "outputs": [
    {
     "name": "stdout",
     "output_type": "stream",
     "text": [
      "                   Target Replacement\n",
      "0                  ('y',)      ('x',)\n",
      "1              ('z', 'y')      ('x',)\n",
      "2         ('y', 'x', 'x')      ('x',)\n",
      "3         ('h', 'y', 'h')      ('x',)\n",
      "4         ('h', 'h', 'y')      ('x',)\n",
      "..                    ...         ...\n",
      "333  ('y', 'h', 'y', 'x')  ('x', 'h')\n",
      "334  ('h', 'y', 'h', 'x')         NaN\n",
      "335                ('z',)         NaN\n",
      "336            ('y', 'y')         NaN\n",
      "337       ('h', 'x', 'h')         NaN\n",
      "\n",
      "[338 rows x 2 columns]\n"
     ]
    }
   ],
   "source": [
    "#Get simplist replacements for each target\n",
    "keyDF = pd.read_csv(r\"key.csv\")\n",
    "\n",
    "for item in range(len(keyDF)):\n",
    "    for m in range(0, 50):\n",
    "        for element in range(len(keyDF)):\n",
    "            if keyDF['Target'][element] == keyDF['Replacement'][item]:\n",
    "                # print(\"1. \" + str(keyDF['Replacement'][item]))\n",
    "                # print(\"2. \" + str(keyDF['Target'][element]))\n",
    "                keyDF['Replacement'][item] = keyDF['Replacement'][element]\n",
    "\n",
    "lst = []\n",
    "print(keyDF)\n",
    "for i in range(len(keyDF)):\n",
    "    temp = []\n",
    "    temp.append(keyDF['Target'][i])\n",
    "    temp.append(keyDF['Replacement'][i])\n",
    "    lst.append(temp)\n",
    "with open(r\"key1.csv\", 'w', newline='', encoding='UTF8') as f:\n",
    "    # create the csv writer\n",
    "    writer = csv.writer(f)\n",
    "    writer.writerow(['Target', 'Replacement'])\n",
    "    writer.writerows(lst)"
   ]
  },
  {
   "cell_type": "code",
   "execution_count": null,
   "id": "ffe04e56-c4e0-4144-97d9-c95a66b9e728",
   "metadata": {},
   "outputs": [],
   "source": []
  }
 ],
 "metadata": {
  "kernelspec": {
   "display_name": "Python 3 (ipykernel)",
   "language": "python",
   "name": "python3"
  },
  "language_info": {
   "codemirror_mode": {
    "name": "ipython",
    "version": 3
   },
   "file_extension": ".py",
   "mimetype": "text/x-python",
   "name": "python",
   "nbconvert_exporter": "python",
   "pygments_lexer": "ipython3",
   "version": "3.9.12"
  },
  "vscode": {
   "interpreter": {
    "hash": "f915d80d67913e1242642b75a189b1c15ab30e78fa02b63258f0988597fbe860"
   }
  }
 },
 "nbformat": 4,
 "nbformat_minor": 5
}
