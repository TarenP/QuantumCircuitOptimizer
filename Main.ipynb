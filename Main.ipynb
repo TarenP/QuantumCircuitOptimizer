{
 "cells": [
  {
   "cell_type": "code",
   "execution_count": 23,
   "id": "58db5dbf-1ed9-4034-8c6d-2d125629ac41",
   "metadata": {},
   "outputs": [],
   "source": [
    "from qiskit import *\n",
    "import numpy as np\n",
    "import pandas as pd\n",
    "from qiskit.visualization import plot_bloch_multivector, plot_histogram, array_to_latex\n",
    "import csv\n",
    "sim = Aer.get_backend('qasm_simulator')\n",
    "typeOfGates = ['x', 'y', 'z', 'h']"
   ]
  },
  {
   "cell_type": "markdown",
   "id": "cb967657-8838-4e59-b3e1-2e3d088c9e35",
   "metadata": {},
   "source": [
    "## Circuit to DF"
   ]
  },
  {
   "cell_type": "code",
   "execution_count": 24,
   "id": "7db3f3a6-0de1-4f15-a186-daf6602e6d6c",
   "metadata": {},
   "outputs": [],
   "source": [
    "def QCtoDF(qc):\n",
    "    string = qc.qasm()\n",
    "    List = ()\n",
    "    circuit = string.split(';')\n",
    "    circuit = circuit[4:]\n",
    "    circuit.pop(len(circuit)-1)\n",
    "    #print(circuit)\n",
    "    with open(r\"Synonym_Database\\gates.csv\", 'w', newline='', encoding='UTF8') as f:\n",
    "        writer = csv.writer(f)\n",
    "        writer.writerow(['Gate', 'Qubit'])\n",
    "        for i in range(len(circuit)):\n",
    "            temp = ()\n",
    "            circuit[i] = circuit[i].replace(\"\\n\", '')\n",
    "            print(circuit[0][1])\n",
    "            temp = circuit[i].split(' ')\n",
    "            #temp[1] = temp[1].split(',')\n",
    "            for j in range(len(temp[1])):\n",
    "                 temp[1] = temp[1].replace(\"q[\", '')\n",
    "                 temp[1] = temp[1].replace(\"]\", '')\n",
    "            writer.writerow(temp)\n",
    "    df = pd.DataFrame(pd.read_csv(r\"Synonym_Database\\gates.csv\"))\n",
    "    return df"
   ]
  },
  {
   "cell_type": "markdown",
   "id": "5ad6ddff-9fb0-42c0-8b75-7082e35bb2e3",
   "metadata": {},
   "source": [
    "## Key to DF"
   ]
  },
  {
   "cell_type": "code",
   "execution_count": 25,
   "id": "8ea963e8-39cc-49be-a488-e9a7e3bd4e01",
   "metadata": {},
   "outputs": [],
   "source": [
    "#Clean up the data in csv to fit conventional list look\n",
    "def KeytoDF():\n",
    "    df = pd.read_csv(r\"Synonym_Database\\key.csv\")\n",
    "    for r in range(len(df)):\n",
    "        try:\n",
    "            df['Replacement'][r] = df['Replacement'][r].replace(\"('\", '')\n",
    "            df['Replacement'][r] = df['Replacement'][r].replace(\")\", '')\n",
    "            df['Replacement'][r] = df['Replacement'][r].replace(\"'\", '')\n",
    "            df['Replacement'][r] = df['Replacement'][r].replace(\" \", '')\n",
    "            temp1 = df['Replacement'][r].split(',')\n",
    "            for i in range(len(temp1)):\n",
    "                if temp1[i] == '':\n",
    "                    temp1.pop(i)\n",
    "                    df['Replacement'][r] = df['Replacement'][r].replace(\",\", '')\n",
    "            df['Target'][r] = df['Target'][r].replace(\"('\", '')\n",
    "            df['Target'][r] = df['Target'][r].replace(\")\", '')\n",
    "            df['Target'][r] = df['Target'][r].replace(\"'\", '')\n",
    "            df['Target'][r] = df['Target'][r].replace(\" \", '')\n",
    "            temp2 = df['Target'][r].split(',')\n",
    "            for i in range(len(temp2)):\n",
    "                if temp2[i] == '':\n",
    "                    temp2.pop(i)\n",
    "                    df['Target'][r] = df['Target'][r].replace(\",\", '')\n",
    "        except:\n",
    "            pass\n",
    "    return df"
   ]
  },
  {
   "cell_type": "code",
   "execution_count": 26,
   "id": "4f1e68d7-5d65-4367-b35c-b522ad6930a2",
   "metadata": {},
   "outputs": [],
   "source": [
    "#generate a list of the gates on a given qubit\n",
    "def GateList(qubitNum, qcDF):\n",
    "    lst = []\n",
    "    for i in range(len(qcDF)):\n",
    "        temp = []\n",
    "        try:\n",
    "            temp = qcDF['Qubit'][i].split(',')\n",
    "            if int(temp[0]) == qubitNum:\n",
    "                if qcDF['Gate'][i] == 'cx':\n",
    "                    temp.append(\"cx\")\n",
    "                    lst.append(temp)\n",
    "                else:\n",
    "                    lst.append(qcDF['Gate'][i])\n",
    "        except:\n",
    "            temp = qcDF['Qubit'][i]\n",
    "            if int(temp) == qubitNum:\n",
    "                lst.append(qcDF['Gate'][i])\n",
    "    return lst"
   ]
  },
  {
   "cell_type": "code",
   "execution_count": 27,
   "id": "e5030c24-609b-4141-9784-3ba444178f8f",
   "metadata": {},
   "outputs": [],
   "source": [
    "def Optimize(qcDF, keyDF, qubitGates, typeOfGates):\n",
    "    final = []\n",
    "    for i in qubitGates:\n",
    "        temp = []\n",
    "        qubit = []\n",
    "        for r in i:\n",
    "            if r in typeOfGates:\n",
    "                temp.append(r)\n",
    "            else:\n",
    "                qubit.append(temp)\n",
    "                temp = []\n",
    "                qubit.append([r])\n",
    "            #if greater than 4 items in list, check which list split will lead to the best compute time and fewest gates\n",
    "            if len(temp) >=4:\n",
    "                qubit.append(temp)\n",
    "                temp = []\n",
    "        qubit.append(temp)\n",
    "        final.append(qubit)\n",
    "    \n",
    "    #qubit\n",
    "    for n in range(len(final)):\n",
    "        #gate combinations in qubit\n",
    "        for i in range(len(final[n])):\n",
    "                #crossreference each target in df with gate combo\n",
    "                for j in range(len(keyDF)):\n",
    "                    if keyDF['Target'][j].split(',') == final[n][i]:\n",
    "                        #if they are equal set the gate combo in final list = to replacement synonym\n",
    "                        final[n][i] = keyDF['Replacement'][j].split(',')\n",
    "\n",
    "    #create circuit\n",
    "    qc = QuantumCircuit(len(final), len(final))\n",
    "    for qubit in range(len(final)):\n",
    "        for g in range(len(final[qubit])):\n",
    "            for j in final[qubit][g]:\n",
    "                if len(j) > 1:\n",
    "                    getattr(qc , j[2])(int(j[0]), int(j[1]))\n",
    "                else:\n",
    "                    getattr(qc , j)(qubit)\n",
    "    return qc\n",
    "\n",
    "    "
   ]
  },
  {
   "cell_type": "code",
   "execution_count": 28,
   "id": "7e92b440-9877-4aa9-bf24-5598b268d2be",
   "metadata": {},
   "outputs": [],
   "source": [
    "def checker(qc, size):\n",
    "    qc.measure(size-1, size-1)\n",
    "    result = execute(qc, backend=sim, shots = 1024).result()\n",
    "    #plot_histogram(counts)\n",
    "    return result.time_taken"
   ]
  },
  {
   "cell_type": "markdown",
   "id": "daf614ad-088a-4ab4-8ac5-a6bc9d822c18",
   "metadata": {},
   "source": [
    "## Synonym Algorithm"
   ]
  },
  {
   "cell_type": "code",
   "execution_count": 29,
   "id": "32b607e0-d975-42d6-8584-9e9e9eb853fa",
   "metadata": {},
   "outputs": [],
   "source": [
    "def Main(qc):\n",
    "    keyDF = KeytoDF()\n",
    "    print(keyDF)\n",
    "    qcDF = QCtoDF(qc)\n",
    "    qubitGates = []\n",
    "    for i in range(len(qc.qubits)):\n",
    "        qubitGates.append(GateList(i, qcDF))\n",
    "    qc1 = Optimize(qcDF, keyDF, qubitGates, typeOfGates)\n",
    "    #print(qc)\n",
    "    c1 = checker(qc1, len(qc1.qubits))\n",
    "    c2 = checker(qc, len(qc.qubits))\n",
    "    print(c1)\n",
    "    print(c2)\n",
    "    if c1 < c2:\n",
    "        print(\"Optimized QC is faster by: \")\n",
    "        print(c2-c1)\n",
    "        \n",
    "    else:\n",
    "        print(\"Optimized QC is slower by: \")\n",
    "        print(c1-c2)\n",
    "    \n",
    "    return qc1\n",
    "        \n",
    "    "
   ]
  }
 ],
 "metadata": {
  "kernelspec": {
   "display_name": "Python 3 (ipykernel)",
   "language": "python",
   "name": "python3"
  },
  "language_info": {
   "codemirror_mode": {
    "name": "ipython",
    "version": 3
   },
   "file_extension": ".py",
   "mimetype": "text/x-python",
   "name": "python",
   "nbconvert_exporter": "python",
   "pygments_lexer": "ipython3",
   "version": "3.9.7"
  }
 },
 "nbformat": 4,
 "nbformat_minor": 5
}
